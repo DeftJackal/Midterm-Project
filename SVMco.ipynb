{
  "nbformat": 4,
  "nbformat_minor": 0,
  "metadata": {
    "colab": {
      "name": "SVMco.ipynb",
      "provenance": [],
      "authorship_tag": "ABX9TyMBLPezN8ty77A0vHoIhTmv",
      "include_colab_link": true
    },
    "kernelspec": {
      "name": "python3",
      "display_name": "Python 3"
    },
    "accelerator": "GPU"
  },
  "cells": [
    {
      "cell_type": "markdown",
      "metadata": {
        "id": "view-in-github",
        "colab_type": "text"
      },
      "source": [
        "<a href=\"https://colab.research.google.com/github/sjmitche9/Midterm-Project/blob/main/SVMco.ipynb\" target=\"_parent\"><img src=\"https://colab.research.google.com/assets/colab-badge.svg\" alt=\"Open In Colab\"/></a>"
      ]
    },
    {
      "cell_type": "code",
      "metadata": {
        "id": "cPEmnvx4Qp2c"
      },
      "source": [
        "import pandas as pd\r\n",
        "import numpy as np\r\n",
        "from sklearn.model_selection import train_test_split\r\n",
        "from sklearn import svm\r\n",
        "from sklearn import metrics"
      ],
      "execution_count": 2,
      "outputs": []
    },
    {
      "cell_type": "code",
      "metadata": {
        "id": "udJVQOpwQtkS"
      },
      "source": [
        "df = pd.read_csv('https://raw.githubusercontent.com/DeftJackal/Midterm-Project/main/Final_dummies.csv')\r\n",
        "df2 = pd.read_csv('https://raw.githubusercontent.com/DeftJackal/Midterm-Project/main/Y_value.csv')"
      ],
      "execution_count": 3,
      "outputs": []
    },
    {
      "cell_type": "code",
      "metadata": {
        "id": "0oC2O8GDSEpf"
      },
      "source": [
        "X = df.drop('fl_date', axis=1)\r\n",
        "y = df2['is_arr_delayed']"
      ],
      "execution_count": 4,
      "outputs": []
    },
    {
      "cell_type": "code",
      "metadata": {
        "colab": {
          "base_uri": "https://localhost:8080/"
        },
        "id": "mef-mc67WRAo",
        "outputId": "b8eabe11-04b6-4882-c483-8191b0892b7f"
      },
      "source": [
        "X.shape"
      ],
      "execution_count": 5,
      "outputs": [
        {
          "output_type": "execute_result",
          "data": {
            "text/plain": [
              "(99092, 51)"
            ]
          },
          "metadata": {
            "tags": []
          },
          "execution_count": 5
        }
      ]
    },
    {
      "cell_type": "code",
      "metadata": {
        "id": "e2gIf0MFSGkX"
      },
      "source": [
        "X_train, X_test, y_train, y_test = train_test_split(X, y, test_size=0.2, random_state=109)"
      ],
      "execution_count": 9,
      "outputs": []
    },
    {
      "cell_type": "code",
      "metadata": {
        "colab": {
          "base_uri": "https://localhost:8080/"
        },
        "id": "K0bZiLDQSJE0",
        "outputId": "1532e065-4a85-4c98-f860-f3e16d89be3a"
      },
      "source": [
        "#Create a svm Classifier\r\n",
        "clf = svm.SVC(kernel='linear', verbose=True) # Linear Kernel\r\n",
        "\r\n",
        "#Train the model using the training sets\r\n",
        "clf.fit(X_train, y_train)"
      ],
      "execution_count": null,
      "outputs": [
        {
          "output_type": "stream",
          "text": [
            "[LibSVM]"
          ],
          "name": "stdout"
        }
      ]
    },
    {
      "cell_type": "code",
      "metadata": {
        "id": "9dxj3Pa8Wgpw"
      },
      "source": [
        "#Predict the response for test dataset\r\n",
        "y_pred = clf.predict(X_test)"
      ],
      "execution_count": 12,
      "outputs": []
    },
    {
      "cell_type": "code",
      "metadata": {
        "colab": {
          "base_uri": "https://localhost:8080/"
        },
        "id": "9o0i3FDLSK7U",
        "outputId": "6ca4c648-e547-41d9-81d9-b4176e109a6d"
      },
      "source": [
        "# Model Accuracy: how often is the classifier correct?\r\n",
        "print(\"Accuracy:\",metrics.accuracy_score(y_test, y_pred))"
      ],
      "execution_count": 13,
      "outputs": [
        {
          "output_type": "stream",
          "text": [
            "Accuracy: 0.8210807810686714\n"
          ],
          "name": "stdout"
        }
      ]
    },
    {
      "cell_type": "code",
      "metadata": {
        "colab": {
          "base_uri": "https://localhost:8080/"
        },
        "id": "LWG8bqIhSLwY",
        "outputId": "b507a4f8-1225-4cd2-ba5e-851c63a00a83"
      },
      "source": [
        "# Model Precision: what percentage of positive tuples are labeled as such?\r\n",
        "print(\"Precision:\",metrics.precision_score(y_test, y_pred))\r\n",
        "\r\n",
        "# Model Recall: what percentage of positive tuples are labelled as such?\r\n",
        "print(\"Recall:\",metrics.recall_score(y_test, y_pred))"
      ],
      "execution_count": 14,
      "outputs": [
        {
          "output_type": "stream",
          "text": [
            "Precision: 0.0\n",
            "Recall: 0.0\n"
          ],
          "name": "stdout"
        },
        {
          "output_type": "stream",
          "text": [
            "/usr/local/lib/python3.6/dist-packages/sklearn/metrics/_classification.py:1272: UndefinedMetricWarning: Precision is ill-defined and being set to 0.0 due to no predicted samples. Use `zero_division` parameter to control this behavior.\n",
            "  _warn_prf(average, modifier, msg_start, len(result))\n"
          ],
          "name": "stderr"
        }
      ]
    }
  ]
}