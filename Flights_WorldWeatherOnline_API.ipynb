{
  "nbformat": 4,
  "nbformat_minor": 0,
  "metadata": {
    "colab": {
      "name": "Flights_WorldWeatherOnline_API.ipynb",
      "provenance": [],
      "collapsed_sections": [],
      "mount_file_id": "1mEtE_MesYWF7c5wgbGz2POZjWY7LDaoy",
      "authorship_tag": "ABX9TyMNeWcoJHCXIwg7co2CZkSq",
      "include_colab_link": true
    },
    "kernelspec": {
      "name": "python3",
      "display_name": "Python 3"
    }
  },
  "cells": [
    {
      "cell_type": "markdown",
      "metadata": {
        "id": "view-in-github",
        "colab_type": "text"
      },
      "source": [
        "<a href=\"https://colab.research.google.com/github/DeftJackal/Midterm-Project/blob/main/Flights_WorldWeatherOnline_API.ipynb\" target=\"_parent\"><img src=\"https://colab.research.google.com/assets/colab-badge.svg\" alt=\"Open In Colab\"/></a>"
      ]
    },
    {
      "cell_type": "markdown",
      "metadata": {
        "id": "xoh8mKuMgDDI"
      },
      "source": [
        "\n",
        "Task 3: Does the weather affect the delay?\n",
        "Use the API to pull the weather information for flights. There is no need to get weather for ALL flights. We can choose the right representative sample. Let's focus on four weather types:\n",
        "\n",
        "sunny </br>\n",
        "cloudy</br>\n",
        "rainy</br>\n",
        "snow.</br>\n",
        "\n",
        "Test the hypothesis that these 4 delays are from the same distribution. If they are not, which ones are significantly different?"
      ]
    },
    {
      "cell_type": "code",
      "metadata": {
        "id": "IzWdVTVnrVhy"
      },
      "source": [
        "# import packages\n",
        "\n",
        "import pandas as pd\n",
        "import numpy as np\n",
        "import IPython\n",
        "!pip install -U Ipython\n",
        "import json\n",
        "from IPython.display import JSON\n",
        "from google.colab import files\n",
        "from io import StringIO\n",
        "import requests as re\n",
        "import os"
      ],
      "execution_count": null,
      "outputs": []
    },
    {
      "cell_type": "markdown",
      "metadata": {
        "id": "8rrfCQnNdwcG"
      },
      "source": [
        "## Gather Subsample #1:\n",
        " </br>\n",
        "First 60,000 oberservations in flights table \n",
        "</br>\n",
        "\n",
        "## Meta Data: \n",
        "</br>\n",
        "Date range: May 24, 2018 to May 27, 2018\n",
        " </br>\n",
        "Total number of delayed flights: \n",
        "</br>\n",
        "Number of delayed flights (partial or all) due to weather delay: 445 \n",
        "</br>\n",
        "Number of origin cities with weather delays: 94\n",
        "</br>\n",
        "Number of destination cities with weather delays: 121 \n",
        "</br>\n",
        "\n"
      ]
    },
    {
      "cell_type": "code",
      "metadata": {
        "id": "70E-fYBPpsxD"
      },
      "source": [
        "flights = pd.read_csv('/content/drive/MyDrive/Colab Notebooks/flights.csv')"
      ],
      "execution_count": 5,
      "outputs": []
    },
    {
      "cell_type": "code",
      "metadata": {
        "colab": {
          "base_uri": "https://localhost:8080/"
        },
        "id": "307enJIIrTn7",
        "outputId": "9c9282ea-e6ff-466e-9cf8-ed53107e96e1"
      },
      "source": [
        "flights.shape"
      ],
      "execution_count": 109,
      "outputs": [
        {
          "output_type": "execute_result",
          "data": {
            "text/plain": [
              "(60000, 42)"
            ]
          },
          "metadata": {
            "tags": []
          },
          "execution_count": 109
        }
      ]
    },
    {
      "cell_type": "code",
      "metadata": {
        "id": "s1tUBP5a0A9o"
      },
      "source": [
        "weather_delays = flights[['fl_date', 'origin_city_name', 'dest_city_name', 'dep_delay', 'weather_delay']]"
      ],
      "execution_count": 39,
      "outputs": []
    },
    {
      "cell_type": "code",
      "metadata": {
        "id": "Zn2k8HIz0XKl"
      },
      "source": [
        "# flights['fl_date'] = pd.to_datetime(flights['fl_date'], format='%Y-%m-%d')\n",
        "# jan_arr_delay = flights[flights['fl_date'].dt.month == 1]\n",
        "# jan_arr_delay['arr_delay'] = jan_arr_delay['arr_delay'].apply(lambda x: 0 if x < 0 else x)\n",
        "# jan_arr_delay['arr_delay'].mean()"
      ],
      "execution_count": 40,
      "outputs": []
    },
    {
      "cell_type": "code",
      "metadata": {
        "colab": {
          "base_uri": "https://localhost:8080/"
        },
        "id": "F-ZJvFO40ilE",
        "outputId": "2556b35e-3169-4782-f12d-740c0bd7e979"
      },
      "source": [
        "weather_delays['fl_date'] = pd.to_datetime(weather_delays['fl_date'], format = '%Y-%m-%d')"
      ],
      "execution_count": 41,
      "outputs": [
        {
          "output_type": "stream",
          "text": [
            "/usr/local/lib/python3.6/dist-packages/ipykernel_launcher.py:1: SettingWithCopyWarning: \n",
            "A value is trying to be set on a copy of a slice from a DataFrame.\n",
            "Try using .loc[row_indexer,col_indexer] = value instead\n",
            "\n",
            "See the caveats in the documentation: https://pandas.pydata.org/pandas-docs/stable/user_guide/indexing.html#returning-a-view-versus-a-copy\n",
            "  \"\"\"Entry point for launching an IPython kernel.\n"
          ],
          "name": "stderr"
        }
      ]
    },
    {
      "cell_type": "code",
      "metadata": {
        "id": "zm-dvsdYC0AC"
      },
      "source": [
        "# df2.loc[df2['Weight'] == 0,'Weight'] = np.nan\n",
        "# cols = [\"Weight\",\"Height\",\"BootSize\",\"SuitSize\",\"Type\"]\n",
        "# df2[cols] = df2[cols].replace({'0':np.nan, 0:np.nan})"
      ],
      "execution_count": 30,
      "outputs": []
    },
    {
      "cell_type": "code",
      "metadata": {
        "colab": {
          "base_uri": "https://localhost:8080/"
        },
        "id": "O7oQGNAnCk2w",
        "outputId": "8ece5bed-beef-4b9a-d927-40d66e964eb7"
      },
      "source": [
        "weather_delays['weather_delay'] = weather_delays['weather_delay'].replace(0.0, np.nan)"
      ],
      "execution_count": 42,
      "outputs": [
        {
          "output_type": "stream",
          "text": [
            "/usr/local/lib/python3.6/dist-packages/ipykernel_launcher.py:1: SettingWithCopyWarning: \n",
            "A value is trying to be set on a copy of a slice from a DataFrame.\n",
            "Try using .loc[row_indexer,col_indexer] = value instead\n",
            "\n",
            "See the caveats in the documentation: https://pandas.pydata.org/pandas-docs/stable/user_guide/indexing.html#returning-a-view-versus-a-copy\n",
            "  \"\"\"Entry point for launching an IPython kernel.\n"
          ],
          "name": "stderr"
        }
      ]
    },
    {
      "cell_type": "code",
      "metadata": {
        "id": "o5BtiDs77yZB"
      },
      "source": [
        "weather_days = weather_delays[weather_delays['weather_delay'].notnull()]"
      ],
      "execution_count": 43,
      "outputs": []
    },
    {
      "cell_type": "code",
      "metadata": {
        "colab": {
          "base_uri": "https://localhost:8080/",
          "height": 419
        },
        "id": "zaERsRfKCKEk",
        "outputId": "15841d96-0312-4899-ee2b-08c6afee4325"
      },
      "source": [
        "weather_days"
      ],
      "execution_count": 46,
      "outputs": [
        {
          "output_type": "execute_result",
          "data": {
            "text/html": [
              "<div>\n",
              "<style scoped>\n",
              "    .dataframe tbody tr th:only-of-type {\n",
              "        vertical-align: middle;\n",
              "    }\n",
              "\n",
              "    .dataframe tbody tr th {\n",
              "        vertical-align: top;\n",
              "    }\n",
              "\n",
              "    .dataframe thead th {\n",
              "        text-align: right;\n",
              "    }\n",
              "</style>\n",
              "<table border=\"1\" class=\"dataframe\">\n",
              "  <thead>\n",
              "    <tr style=\"text-align: right;\">\n",
              "      <th></th>\n",
              "      <th>fl_date</th>\n",
              "      <th>origin_city_name</th>\n",
              "      <th>dest_city_name</th>\n",
              "      <th>dep_delay</th>\n",
              "      <th>weather_delay</th>\n",
              "    </tr>\n",
              "  </thead>\n",
              "  <tbody>\n",
              "    <tr>\n",
              "      <th>608</th>\n",
              "      <td>2018-05-24</td>\n",
              "      <td>Minneapolis, MN</td>\n",
              "      <td>Chicago, IL</td>\n",
              "      <td>50.0</td>\n",
              "      <td>50.0</td>\n",
              "    </tr>\n",
              "    <tr>\n",
              "      <th>1231</th>\n",
              "      <td>2018-05-24</td>\n",
              "      <td>Reno, NV</td>\n",
              "      <td>Las Vegas, NV</td>\n",
              "      <td>27.0</td>\n",
              "      <td>20.0</td>\n",
              "    </tr>\n",
              "    <tr>\n",
              "      <th>1347</th>\n",
              "      <td>2018-05-24</td>\n",
              "      <td>San Diego, CA</td>\n",
              "      <td>San Francisco, CA</td>\n",
              "      <td>204.0</td>\n",
              "      <td>64.0</td>\n",
              "    </tr>\n",
              "    <tr>\n",
              "      <th>1613</th>\n",
              "      <td>2018-05-24</td>\n",
              "      <td>San Jose, CA</td>\n",
              "      <td>Salt Lake City, UT</td>\n",
              "      <td>49.0</td>\n",
              "      <td>7.0</td>\n",
              "    </tr>\n",
              "    <tr>\n",
              "      <th>1914</th>\n",
              "      <td>2018-05-24</td>\n",
              "      <td>Tampa, FL</td>\n",
              "      <td>Atlanta, GA</td>\n",
              "      <td>58.0</td>\n",
              "      <td>29.0</td>\n",
              "    </tr>\n",
              "    <tr>\n",
              "      <th>...</th>\n",
              "      <td>...</td>\n",
              "      <td>...</td>\n",
              "      <td>...</td>\n",
              "      <td>...</td>\n",
              "      <td>...</td>\n",
              "    </tr>\n",
              "    <tr>\n",
              "      <th>59467</th>\n",
              "      <td>2018-05-27</td>\n",
              "      <td>Philadelphia, PA</td>\n",
              "      <td>Houston, TX</td>\n",
              "      <td>35.0</td>\n",
              "      <td>9.0</td>\n",
              "    </tr>\n",
              "    <tr>\n",
              "      <th>59595</th>\n",
              "      <td>2018-05-27</td>\n",
              "      <td>Newark, NJ</td>\n",
              "      <td>Fort Myers, FL</td>\n",
              "      <td>26.0</td>\n",
              "      <td>26.0</td>\n",
              "    </tr>\n",
              "    <tr>\n",
              "      <th>59613</th>\n",
              "      <td>2018-05-27</td>\n",
              "      <td>Newark, NJ</td>\n",
              "      <td>San Juan, PR</td>\n",
              "      <td>21.0</td>\n",
              "      <td>21.0</td>\n",
              "    </tr>\n",
              "    <tr>\n",
              "      <th>59903</th>\n",
              "      <td>2018-05-27</td>\n",
              "      <td>Washington, DC</td>\n",
              "      <td>Boston, MA</td>\n",
              "      <td>16.0</td>\n",
              "      <td>16.0</td>\n",
              "    </tr>\n",
              "    <tr>\n",
              "      <th>59958</th>\n",
              "      <td>2018-05-27</td>\n",
              "      <td>Newark, NJ</td>\n",
              "      <td>Los Angeles, CA</td>\n",
              "      <td>44.0</td>\n",
              "      <td>23.0</td>\n",
              "    </tr>\n",
              "  </tbody>\n",
              "</table>\n",
              "<p>445 rows × 5 columns</p>\n",
              "</div>"
            ],
            "text/plain": [
              "         fl_date  origin_city_name  ... dep_delay  weather_delay\n",
              "608   2018-05-24   Minneapolis, MN  ...      50.0           50.0\n",
              "1231  2018-05-24          Reno, NV  ...      27.0           20.0\n",
              "1347  2018-05-24     San Diego, CA  ...     204.0           64.0\n",
              "1613  2018-05-24      San Jose, CA  ...      49.0            7.0\n",
              "1914  2018-05-24         Tampa, FL  ...      58.0           29.0\n",
              "...          ...               ...  ...       ...            ...\n",
              "59467 2018-05-27  Philadelphia, PA  ...      35.0            9.0\n",
              "59595 2018-05-27        Newark, NJ  ...      26.0           26.0\n",
              "59613 2018-05-27        Newark, NJ  ...      21.0           21.0\n",
              "59903 2018-05-27    Washington, DC  ...      16.0           16.0\n",
              "59958 2018-05-27        Newark, NJ  ...      44.0           23.0\n",
              "\n",
              "[445 rows x 5 columns]"
            ]
          },
          "metadata": {
            "tags": []
          },
          "execution_count": 46
        }
      ]
    },
    {
      "cell_type": "code",
      "metadata": {
        "colab": {
          "base_uri": "https://localhost:8080/"
        },
        "id": "PzipuzSsbvlm",
        "outputId": "f4b4d6df-032e-4861-a0cb-d487d8d35f9a"
      },
      "source": [
        "weather_days.origin_city_name.value_counts()"
      ],
      "execution_count": 108,
      "outputs": [
        {
          "output_type": "execute_result",
          "data": {
            "text/plain": [
              "Philadelphia, PA    72\n",
              "Houston, TX         51\n",
              "Washington, DC      38\n",
              "Minneapolis, MN     31\n",
              "Miami, FL           21\n",
              "                    ..\n",
              "Moline, IL           1\n",
              "Syracuse, NY         1\n",
              "Rapid City, SD       1\n",
              "Scottsbluff, NE      1\n",
              "Los Angeles, CA      1\n",
              "Name: origin_city_name, Length: 94, dtype: int64"
            ]
          },
          "metadata": {
            "tags": []
          },
          "execution_count": 108
        }
      ]
    },
    {
      "cell_type": "code",
      "metadata": {
        "colab": {
          "base_uri": "https://localhost:8080/"
        },
        "id": "l0zrHa--fZ8y",
        "outputId": "9869418e-4b95-466e-b5a7-1004784e432d"
      },
      "source": [
        "weather_days.dest_city_name.value_counts()"
      ],
      "execution_count": 110,
      "outputs": [
        {
          "output_type": "execute_result",
          "data": {
            "text/plain": [
              "Dallas/Fort Worth, TX     28\n",
              "Chicago, IL               25\n",
              "Charlotte, NC             24\n",
              "Atlanta, GA               20\n",
              "New York, NY              17\n",
              "                          ..\n",
              "Wichita, KS                1\n",
              "Islip, NY                  1\n",
              "Charlotte Amalie, VI       1\n",
              "Bloomington/Normal, IL     1\n",
              "Fayetteville, NC           1\n",
              "Name: dest_city_name, Length: 121, dtype: int64"
            ]
          },
          "metadata": {
            "tags": []
          },
          "execution_count": 110
        }
      ]
    },
    {
      "cell_type": "code",
      "metadata": {
        "id": "hGM2On8O712H"
      },
      "source": [
        "# if weather delay is int > 0, take fl_date into API search"
      ],
      "execution_count": 10,
      "outputs": []
    },
    {
      "cell_type": "code",
      "metadata": {
        "id": "cfkC9ynH_tgX"
      },
      "source": [
        "# For world weather online \n",
        "# Docs : https://www.worldweatheronline.com/developer/api/docs/local-city-town-weather-api.aspx"
      ],
      "execution_count": null,
      "outputs": []
    },
    {
      "cell_type": "code",
      "metadata": {
        "id": "7MUVONlf_gxF"
      },
      "source": [
        "# location \n",
        "# q=New+York\n",
        "\n",
        "# q=New+york,ny\n",
        "\n",
        "# q=London,united+kingdom"
      ],
      "execution_count": null,
      "outputs": []
    },
    {
      "cell_type": "code",
      "metadata": {
        "id": "LgQ4ZTj_RHsp"
      },
      "source": [
        "def get_weather(x, y):\n",
        "  url = f'https://api.worldweatheronline.com/premium/v1/past-weather.ashx?q={x}&date={y}&format=json&Key=644b7d0e28cb4ad3a64225414211001&cc =no&num_of_days=5'\n",
        "  response = re.get(url)\n",
        "  results = response.json()\n",
        "  return results"
      ],
      "execution_count": 104,
      "outputs": []
    },
    {
      "cell_type": "code",
      "metadata": {
        "id": "UJADP-gIGHrG"
      },
      "source": [
        "res_NV_20180524_results = get_weather('Reno, NV','2018-05-24')"
      ],
      "execution_count": 105,
      "outputs": []
    },
    {
      "cell_type": "code",
      "metadata": {
        "colab": {
          "base_uri": "https://localhost:8080/"
        },
        "id": "BOwHxFf4Inbv",
        "outputId": "7633662c-d340-481b-885c-7c1b559601fd"
      },
      "source": [
        "res_NV_20180524_results"
      ],
      "execution_count": 106,
      "outputs": [
        {
          "output_type": "execute_result",
          "data": {
            "text/plain": [
              "{'data': {'request': [{'query': 'Reno, United States of America',\n",
              "    'type': 'City'}],\n",
              "  'weather': [{'astronomy': [{'moon_illumination': '63',\n",
              "      'moon_phase': 'First Quarter',\n",
              "      'moonrise': '02:26 PM',\n",
              "      'moonset': '02:14 AM',\n",
              "      'sunrise': '04:38 AM',\n",
              "      'sunset': '07:15 PM'}],\n",
              "    'avgtempC': '16',\n",
              "    'avgtempF': '60',\n",
              "    'date': '2018-05-24',\n",
              "    'hourly': [{'DewPointC': '5',\n",
              "      'DewPointF': '41',\n",
              "      'FeelsLikeC': '10',\n",
              "      'FeelsLikeF': '49',\n",
              "      'HeatIndexC': '10',\n",
              "      'HeatIndexF': '50',\n",
              "      'WindChillC': '10',\n",
              "      'WindChillF': '49',\n",
              "      'WindGustKmph': '10',\n",
              "      'WindGustMiles': '6',\n",
              "      'cloudcover': '5',\n",
              "      'humidity': '71',\n",
              "      'precipInches': '0.0',\n",
              "      'precipMM': '0.0',\n",
              "      'pressure': '1015',\n",
              "      'pressureInches': '30',\n",
              "      'tempC': '10',\n",
              "      'tempF': '50',\n",
              "      'time': '0',\n",
              "      'uvIndex': '1',\n",
              "      'visibility': '10',\n",
              "      'visibilityMiles': '6',\n",
              "      'weatherCode': '113',\n",
              "      'weatherDesc': [{'value': 'Clear'}],\n",
              "      'weatherIconUrl': [{'value': 'http://cdn.worldweatheronline.com/images/wsymbols01_png_64/wsymbol_0008_clear_sky_night.png'}],\n",
              "      'winddir16Point': 'W',\n",
              "      'winddirDegree': '261',\n",
              "      'windspeedKmph': '5',\n",
              "      'windspeedMiles': '3'},\n",
              "     {'DewPointC': '5',\n",
              "      'DewPointF': '41',\n",
              "      'FeelsLikeC': '9',\n",
              "      'FeelsLikeF': '48',\n",
              "      'HeatIndexC': '9',\n",
              "      'HeatIndexF': '49',\n",
              "      'WindChillC': '9',\n",
              "      'WindChillF': '48',\n",
              "      'WindGustKmph': '9',\n",
              "      'WindGustMiles': '6',\n",
              "      'cloudcover': '16',\n",
              "      'humidity': '74',\n",
              "      'precipInches': '0.0',\n",
              "      'precipMM': '0.0',\n",
              "      'pressure': '1015',\n",
              "      'pressureInches': '30',\n",
              "      'tempC': '9',\n",
              "      'tempF': '49',\n",
              "      'time': '300',\n",
              "      'uvIndex': '1',\n",
              "      'visibility': '10',\n",
              "      'visibilityMiles': '6',\n",
              "      'weatherCode': '113',\n",
              "      'weatherDesc': [{'value': 'Clear'}],\n",
              "      'weatherIconUrl': [{'value': 'http://cdn.worldweatheronline.com/images/wsymbols01_png_64/wsymbol_0008_clear_sky_night.png'}],\n",
              "      'winddir16Point': 'S',\n",
              "      'winddirDegree': '189',\n",
              "      'windspeedKmph': '5',\n",
              "      'windspeedMiles': '3'},\n",
              "     {'DewPointC': '6',\n",
              "      'DewPointF': '42',\n",
              "      'FeelsLikeC': '13',\n",
              "      'FeelsLikeF': '56',\n",
              "      'HeatIndexC': '13',\n",
              "      'HeatIndexF': '55',\n",
              "      'WindChillC': '13',\n",
              "      'WindChillF': '56',\n",
              "      'WindGustKmph': '5',\n",
              "      'WindGustMiles': '3',\n",
              "      'cloudcover': '46',\n",
              "      'humidity': '62',\n",
              "      'precipInches': '0.0',\n",
              "      'precipMM': '0.0',\n",
              "      'pressure': '1015',\n",
              "      'pressureInches': '30',\n",
              "      'tempC': '13',\n",
              "      'tempF': '55',\n",
              "      'time': '600',\n",
              "      'uvIndex': '4',\n",
              "      'visibility': '10',\n",
              "      'visibilityMiles': '6',\n",
              "      'weatherCode': '116',\n",
              "      'weatherDesc': [{'value': 'Partly cloudy'}],\n",
              "      'weatherIconUrl': [{'value': 'http://cdn.worldweatheronline.com/images/wsymbols01_png_64/wsymbol_0002_sunny_intervals.png'}],\n",
              "      'winddir16Point': 'S',\n",
              "      'winddirDegree': '176',\n",
              "      'windspeedKmph': '4',\n",
              "      'windspeedMiles': '2'},\n",
              "     {'DewPointC': '7',\n",
              "      'DewPointF': '44',\n",
              "      'FeelsLikeC': '17',\n",
              "      'FeelsLikeF': '62',\n",
              "      'HeatIndexC': '17',\n",
              "      'HeatIndexF': '62',\n",
              "      'WindChillC': '17',\n",
              "      'WindChillF': '62',\n",
              "      'WindGustKmph': '9',\n",
              "      'WindGustMiles': '6',\n",
              "      'cloudcover': '44',\n",
              "      'humidity': '51',\n",
              "      'precipInches': '0.0',\n",
              "      'precipMM': '0.0',\n",
              "      'pressure': '1014',\n",
              "      'pressureInches': '30',\n",
              "      'tempC': '17',\n",
              "      'tempF': '62',\n",
              "      'time': '900',\n",
              "      'uvIndex': '4',\n",
              "      'visibility': '9',\n",
              "      'visibilityMiles': '5',\n",
              "      'weatherCode': '200',\n",
              "      'weatherDesc': [{'value': 'Thundery outbreaks possible'}],\n",
              "      'weatherIconUrl': [{'value': 'http://cdn.worldweatheronline.com/images/wsymbols01_png_64/wsymbol_0016_thundery_showers.png'}],\n",
              "      'winddir16Point': 'ESE',\n",
              "      'winddirDegree': '104',\n",
              "      'windspeedKmph': '8',\n",
              "      'windspeedMiles': '5'},\n",
              "     {'DewPointC': '6',\n",
              "      'DewPointF': '44',\n",
              "      'FeelsLikeC': '19',\n",
              "      'FeelsLikeF': '66',\n",
              "      'HeatIndexC': '19',\n",
              "      'HeatIndexF': '66',\n",
              "      'WindChillC': '19',\n",
              "      'WindChillF': '66',\n",
              "      'WindGustKmph': '10',\n",
              "      'WindGustMiles': '6',\n",
              "      'cloudcover': '24',\n",
              "      'humidity': '44',\n",
              "      'precipInches': '0.0',\n",
              "      'precipMM': '0.4',\n",
              "      'pressure': '1012',\n",
              "      'pressureInches': '30',\n",
              "      'tempC': '19',\n",
              "      'tempF': '66',\n",
              "      'time': '1200',\n",
              "      'uvIndex': '4',\n",
              "      'visibility': '10',\n",
              "      'visibilityMiles': '6',\n",
              "      'weatherCode': '386',\n",
              "      'weatherDesc': [{'value': 'Patchy light rain with thunder'}],\n",
              "      'weatherIconUrl': [{'value': 'http://cdn.worldweatheronline.com/images/wsymbols01_png_64/wsymbol_0016_thundery_showers.png'}],\n",
              "      'winddir16Point': 'ESE',\n",
              "      'winddirDegree': '122',\n",
              "      'windspeedKmph': '9',\n",
              "      'windspeedMiles': '5'},\n",
              "     {'DewPointC': '8',\n",
              "      'DewPointF': '46',\n",
              "      'FeelsLikeC': '17',\n",
              "      'FeelsLikeF': '63',\n",
              "      'HeatIndexC': '17',\n",
              "      'HeatIndexF': '63',\n",
              "      'WindChillC': '17',\n",
              "      'WindChillF': '63',\n",
              "      'WindGustKmph': '9',\n",
              "      'WindGustMiles': '6',\n",
              "      'cloudcover': '17',\n",
              "      'humidity': '53',\n",
              "      'precipInches': '0.0',\n",
              "      'precipMM': '0.0',\n",
              "      'pressure': '1011',\n",
              "      'pressureInches': '30',\n",
              "      'tempC': '17',\n",
              "      'tempF': '63',\n",
              "      'time': '1500',\n",
              "      'uvIndex': '5',\n",
              "      'visibility': '10',\n",
              "      'visibilityMiles': '6',\n",
              "      'weatherCode': '113',\n",
              "      'weatherDesc': [{'value': 'Sunny'}],\n",
              "      'weatherIconUrl': [{'value': 'http://cdn.worldweatheronline.com/images/wsymbols01_png_64/wsymbol_0001_sunny.png'}],\n",
              "      'winddir16Point': 'W',\n",
              "      'winddirDegree': '264',\n",
              "      'windspeedKmph': '7',\n",
              "      'windspeedMiles': '4'},\n",
              "     {'DewPointC': '9',\n",
              "      'DewPointF': '49',\n",
              "      'FeelsLikeC': '11',\n",
              "      'FeelsLikeF': '51',\n",
              "      'HeatIndexC': '12',\n",
              "      'HeatIndexF': '54',\n",
              "      'WindChillC': '11',\n",
              "      'WindChillF': '51',\n",
              "      'WindGustKmph': '31',\n",
              "      'WindGustMiles': '19',\n",
              "      'cloudcover': '76',\n",
              "      'humidity': '83',\n",
              "      'precipInches': '0.5',\n",
              "      'precipMM': '13.0',\n",
              "      'pressure': '1011',\n",
              "      'pressureInches': '30',\n",
              "      'tempC': '12',\n",
              "      'tempF': '54',\n",
              "      'time': '1800',\n",
              "      'uvIndex': '1',\n",
              "      'visibility': '3',\n",
              "      'visibilityMiles': '1',\n",
              "      'weatherCode': '359',\n",
              "      'weatherDesc': [{'value': 'Torrential rain shower'}],\n",
              "      'weatherIconUrl': [{'value': 'http://cdn.worldweatheronline.com/images/wsymbols01_png_64/wsymbol_0034_cloudy_with_heavy_rain_night.png'}],\n",
              "      'winddir16Point': 'WSW',\n",
              "      'winddirDegree': '256',\n",
              "      'windspeedKmph': '15',\n",
              "      'windspeedMiles': '10'},\n",
              "     {'DewPointC': '8',\n",
              "      'DewPointF': '46',\n",
              "      'FeelsLikeC': '9',\n",
              "      'FeelsLikeF': '48',\n",
              "      'HeatIndexC': '10',\n",
              "      'HeatIndexF': '50',\n",
              "      'WindChillC': '9',\n",
              "      'WindChillF': '48',\n",
              "      'WindGustKmph': '13',\n",
              "      'WindGustMiles': '8',\n",
              "      'cloudcover': '45',\n",
              "      'humidity': '88',\n",
              "      'precipInches': '0.0',\n",
              "      'precipMM': '0.0',\n",
              "      'pressure': '1014',\n",
              "      'pressureInches': '30',\n",
              "      'tempC': '10',\n",
              "      'tempF': '50',\n",
              "      'time': '2100',\n",
              "      'uvIndex': '1',\n",
              "      'visibility': '10',\n",
              "      'visibilityMiles': '6',\n",
              "      'weatherCode': '116',\n",
              "      'weatherDesc': [{'value': 'Partly cloudy'}],\n",
              "      'weatherIconUrl': [{'value': 'http://cdn.worldweatheronline.com/images/wsymbols01_png_64/wsymbol_0004_black_low_cloud.png'}],\n",
              "      'winddir16Point': 'NW',\n",
              "      'winddirDegree': '318',\n",
              "      'windspeedKmph': '10',\n",
              "      'windspeedMiles': '6'}],\n",
              "    'maxtempC': '19',\n",
              "    'maxtempF': '66',\n",
              "    'mintempC': '9',\n",
              "    'mintempF': '49',\n",
              "    'sunHour': '13.4',\n",
              "    'totalSnow_cm': '0.0',\n",
              "    'uvIndex': '5'}]}}"
            ]
          },
          "metadata": {
            "tags": []
          },
          "execution_count": 106
        }
      ]
    },
    {
      "cell_type": "code",
      "metadata": {
        "id": "eubVqtDeKX2h"
      },
      "source": [
        ""
      ],
      "execution_count": 80,
      "outputs": []
    },
    {
      "cell_type": "code",
      "metadata": {
        "id": "-Qdnhz4oKYsq"
      },
      "source": [
        "# Write a funciton to get venues\n",
        "bar_count = []\n",
        "\n",
        "def get_venues(x):\n",
        "    for row in injuryTable:\n",
        "        url = f'https://api.foursquare.com/v2/venues/search?ll={x}&client_id={foursquare_id}&client_secret={foursquare_secret}&v=20200731&radius=5000&categoryId=4bf58dd8d48988d116941735'\n",
        "        response = re.get(url)\n",
        "        results = response.json()\n",
        "        bars = [venues['name'] for venues in results['response']['venues']]\n",
        "        num_bars = len(bars)\n",
        "        return num_bars"
      ],
      "execution_count": null,
      "outputs": []
    }
  ]
}