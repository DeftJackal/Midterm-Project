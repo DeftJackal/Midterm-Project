{
 "cells": [
  {
   "cell_type": "code",
   "execution_count": 100,
   "metadata": {},
   "outputs": [],
   "source": [
    "import pandas as pd\n",
    "import psycopg2\n",
    "import sqlalchemy\n",
    "import matplotlib.pyplot as plt\n",
    "import pandas as pd\n",
    "from sqlalchemy import create_engine\n",
    "import datetime as dt\n",
    "import seaborn as sns\n",
    "from scipy import stats\n",
    "import numpy as np\n",
    "import pickle"
   ]
  },
  {
   "cell_type": "code",
   "execution_count": 101,
   "metadata": {},
   "outputs": [],
   "source": [
    "# Postgres username, password, and database name\n",
    "POSTGRES_ADDRESS = 'mid-term-project.ca2jkepgjpne.us-east-2.rds.amazonaws.com' ## INSERT YOUR DB ADDRESS IF IT'S \n",
    "# NOT ON PANOPLY\n",
    "POSTGRES_PORT = '5432'\n",
    "POSTGRES_USERNAME = 'lhl_student' ## CHANGE THIS TO YOUR PANOPLY/POSTGRES USERNAME\n",
    "POSTGRES_PASSWORD = 'lhl_student' ## CHANGE THIS TO YOUR PANOPLY/POSTGRES PASSWORD \n",
    "POSTGRES_DBNAME = 'mid_term_project' ## CHANGE THIS TO YOUR DATABASE NAME\n",
    "# A long string that contains the necessary Postgres login information\n",
    "postgres_str = ('postgresql://{username}:{password}@{ipaddress}:{port}/{dbname}'\n",
    "              .format(username=POSTGRES_USERNAME,\n",
    "               password=POSTGRES_PASSWORD,\n",
    "               ipaddress=POSTGRES_ADDRESS,\n",
    "               port=POSTGRES_PORT,\n",
    "               dbname=POSTGRES_DBNAME))"
   ]
  },
  {
   "cell_type": "code",
   "execution_count": 102,
   "metadata": {},
   "outputs": [],
   "source": [
    "cnx = create_engine(postgres_str)"
   ]
  },
  {
   "cell_type": "markdown",
   "metadata": {},
   "source": [
    "#### **Task 1**: Test the hypothesis that the delay is from Normal distribution. and that **mean** of the delay is 0. Be careful about the outliers."
   ]
  },
  {
   "cell_type": "code",
   "execution_count": 51,
   "metadata": {},
   "outputs": [],
   "source": [
    "date_arr_delay = pd.read_sql_query('''SELECT fl_date, arr_delay FROM flights;''', cnx)"
   ]
  },
  {
   "cell_type": "code",
   "execution_count": 52,
   "metadata": {},
   "outputs": [],
   "source": [
    "date_arr_delay['fl_date'] = pd.to_datetime(date_arr_delay['fl_date'], format='%Y-%m-%d')"
   ]
  },
  {
   "cell_type": "code",
   "execution_count": 214,
   "metadata": {},
   "outputs": [],
   "source": [
    "with open('C:/Users/sjmit/anaconda3/practice/lighthouse/w6/mid-term-project-I-master/date_arr_delay.pkl', 'wb') as f:\n",
    "    pickle.dump(date_arr_delay, f)"
   ]
  },
  {
   "cell_type": "code",
   "execution_count": 17,
   "metadata": {},
   "outputs": [],
   "source": [
    "with open('C:/Users/sjmit/anaconda3/practice/lighthouse/w6/mid-term-project-I-master/date_arr_delay.pkl', 'rb') as f:\n",
    "    date_arr_delay = pickle.load(f)"
   ]
  },
  {
   "cell_type": "code",
   "execution_count": 53,
   "metadata": {},
   "outputs": [
    {
     "data": {
      "text/html": [
       "<div>\n",
       "<style scoped>\n",
       "    .dataframe tbody tr th:only-of-type {\n",
       "        vertical-align: middle;\n",
       "    }\n",
       "\n",
       "    .dataframe tbody tr th {\n",
       "        vertical-align: top;\n",
       "    }\n",
       "\n",
       "    .dataframe thead th {\n",
       "        text-align: right;\n",
       "    }\n",
       "</style>\n",
       "<table border=\"1\" class=\"dataframe\">\n",
       "  <thead>\n",
       "    <tr style=\"text-align: right;\">\n",
       "      <th></th>\n",
       "      <th>fl_date</th>\n",
       "      <th>arr_delay</th>\n",
       "    </tr>\n",
       "  </thead>\n",
       "  <tbody>\n",
       "    <tr>\n",
       "      <th>0</th>\n",
       "      <td>2019-06-21</td>\n",
       "      <td>-15.0</td>\n",
       "    </tr>\n",
       "    <tr>\n",
       "      <th>1</th>\n",
       "      <td>2019-06-21</td>\n",
       "      <td>147.0</td>\n",
       "    </tr>\n",
       "    <tr>\n",
       "      <th>2</th>\n",
       "      <td>2019-06-21</td>\n",
       "      <td>-12.0</td>\n",
       "    </tr>\n",
       "    <tr>\n",
       "      <th>3</th>\n",
       "      <td>2019-06-21</td>\n",
       "      <td>26.0</td>\n",
       "    </tr>\n",
       "    <tr>\n",
       "      <th>4</th>\n",
       "      <td>2019-06-21</td>\n",
       "      <td>136.0</td>\n",
       "    </tr>\n",
       "  </tbody>\n",
       "</table>\n",
       "</div>"
      ],
      "text/plain": [
       "     fl_date  arr_delay\n",
       "0 2019-06-21      -15.0\n",
       "1 2019-06-21      147.0\n",
       "2 2019-06-21      -12.0\n",
       "3 2019-06-21       26.0\n",
       "4 2019-06-21      136.0"
      ]
     },
     "execution_count": 53,
     "metadata": {},
     "output_type": "execute_result"
    }
   ],
   "source": [
    "date_arr_delay.head()"
   ]
  },
  {
   "cell_type": "code",
   "execution_count": 5,
   "metadata": {},
   "outputs": [],
   "source": [
    "jan_arr_delay = date_arr_delay[date_arr_delay['fl_date'].dt.month == 1]"
   ]
  },
  {
   "cell_type": "code",
   "execution_count": 6,
   "metadata": {},
   "outputs": [
    {
     "data": {
      "text/plain": [
       "-7.0"
      ]
     },
     "execution_count": 6,
     "metadata": {},
     "output_type": "execute_result"
    }
   ],
   "source": [
    "jan_arr_delay['arr_delay'].median()"
   ]
  },
  {
   "cell_type": "code",
   "execution_count": 56,
   "metadata": {},
   "outputs": [
    {
     "name": "stderr",
     "output_type": "stream",
     "text": [
      "<ipython-input-56-586626788d5d>:2: SettingWithCopyWarning: \n",
      "A value is trying to be set on a copy of a slice from a DataFrame.\n",
      "Try using .loc[row_indexer,col_indexer] = value instead\n",
      "\n",
      "See the caveats in the documentation: https://pandas.pydata.org/pandas-docs/stable/user_guide/indexing.html#returning-a-view-versus-a-copy\n",
      "  jan_arr_delay['arr_delay'] = jan_arr_delay['arr_delay'].fillna(jan_arr_delay['arr_delay'].median())\n"
     ]
    }
   ],
   "source": [
    "jan_arr_delay.isnull().sum()\n",
    "jan_arr_delay['arr_delay'] = jan_arr_delay['arr_delay'].fillna(jan_arr_delay['arr_delay'].median())"
   ]
  },
  {
   "cell_type": "code",
   "execution_count": 57,
   "metadata": {},
   "outputs": [
    {
     "data": {
      "text/plain": [
       "(1239868, 2)"
      ]
     },
     "execution_count": 57,
     "metadata": {},
     "output_type": "execute_result"
    }
   ],
   "source": [
    "jan_arr_delay.shape"
   ]
  },
  {
   "cell_type": "code",
   "execution_count": 58,
   "metadata": {},
   "outputs": [],
   "source": [
    "no_outliers = jan_arr_delay[(np.abs(stats.zscore(jan_arr_delay['arr_delay'])) < 3)]"
   ]
  },
  {
   "cell_type": "code",
   "execution_count": 59,
   "metadata": {},
   "outputs": [
    {
     "name": "stdout",
     "output_type": "stream",
     "text": [
      "stat=583867.208, p=0.000\n",
      "Probably not Gaussian\n"
     ]
    }
   ],
   "source": [
    "# Example of the D'Agostino's K^2 Normality Test\n",
    "from scipy.stats import normaltest\n",
    "data = no_outliers['arr_delay']\n",
    "stat, p = normaltest(data)\n",
    "print('stat=%.3f, p=%.3f' % (stat, p))\n",
    "if p > 0.05:\n",
    "\tprint('Probably Gaussian')\n",
    "else:\n",
    "\tprint('Probably not Gaussian')"
   ]
  },
  {
   "cell_type": "code",
   "execution_count": 60,
   "metadata": {},
   "outputs": [
    {
     "data": {
      "text/plain": [
       "3.762365832491846"
      ]
     },
     "execution_count": 60,
     "metadata": {},
     "output_type": "execute_result"
    }
   ],
   "source": [
    "neg_mean = jan_arr_delay['arr_delay'].mean()\n",
    "neg_mean"
   ]
  },
  {
   "cell_type": "code",
   "execution_count": 61,
   "metadata": {},
   "outputs": [],
   "source": [
    "counts = jan_arr_delay['arr_delay'].value_counts()"
   ]
  },
  {
   "cell_type": "code",
   "execution_count": 62,
   "metadata": {},
   "outputs": [],
   "source": [
    "zero_delays = jan_arr_delay['arr_delay'].apply(lambda x: 0 if x < 0 else x)"
   ]
  },
  {
   "cell_type": "code",
   "execution_count": 63,
   "metadata": {},
   "outputs": [
    {
     "data": {
      "text/plain": [
       "13.328021208709314"
      ]
     },
     "execution_count": 63,
     "metadata": {},
     "output_type": "execute_result"
    }
   ],
   "source": [
    "zero_delays.mean()"
   ]
  },
  {
   "cell_type": "code",
   "execution_count": 64,
   "metadata": {},
   "outputs": [
    {
     "data": {
      "image/png": "[encoded data removed]",
      "text/plain": [
       "<Figure size 1440x720 with 1 Axes>"
      ]
     },
     "metadata": {
      "needs_background": "light"
     },
     "output_type": "display_data"
    }
   ],
   "source": [
    "plt.figure(figsize=(20, 10))\n",
    "plt.hist(no_outliers['arr_delay'], bins=100)\n",
    "plt.xlim(-150, 250)\n",
    "plt.show()"
   ]
  },
  {
   "cell_type": "code",
   "execution_count": 65,
   "metadata": {},
   "outputs": [
    {
     "data": {
      "text/plain": [
       "2023.0"
      ]
     },
     "execution_count": 65,
     "metadata": {},
     "output_type": "execute_result"
    }
   ],
   "source": [
    "jan_arr_delay['arr_delay'].max()"
   ]
  },
  {
   "cell_type": "code",
   "execution_count": 66,
   "metadata": {},
   "outputs": [
    {
     "data": {
      "text/plain": [
       "(1239868, 2)"
      ]
     },
     "execution_count": 66,
     "metadata": {},
     "output_type": "execute_result"
    }
   ],
   "source": [
    "jan_arr_delay.shape"
   ]
  },
  {
   "cell_type": "code",
   "execution_count": 67,
   "metadata": {},
   "outputs": [
    {
     "data": {
      "image/png": "[encoded data removed]",
      "text/plain": [
       "<Figure size 1440x720 with 1 Axes>"
      ]
     },
     "metadata": {
      "needs_background": "light"
     },
     "output_type": "display_data"
    }
   ],
   "source": [
    "plt.figure(figsize=(20,10))\n",
    "plt.hist(jan_arr_delay['arr_delay'], bins=1000)\n",
    "plt.xlim(0,350)\n",
    "plt.ylim(0,50000)\n",
    "plt.show()"
   ]
  },
  {
   "cell_type": "code",
   "execution_count": 68,
   "metadata": {},
   "outputs": [],
   "source": [
    "date_arr_delay['month'] = date_arr_delay['fl_date'].dt.month\n",
    "date_arr_delay['year'] = date_arr_delay['fl_date'].dt.year"
   ]
  },
  {
   "cell_type": "code",
   "execution_count": 69,
   "metadata": {},
   "outputs": [],
   "source": [
    "date_arr_delay['arr_delay'] = date_arr_delay['arr_delay'].fillna(date_arr_delay['arr_delay'].median())"
   ]
  },
  {
   "cell_type": "code",
   "execution_count": 80,
   "metadata": {},
   "outputs": [],
   "source": [
    "monthly_yearly = date_arr_delay.groupby(['year', 'month']).arr_delay.mean().reset_index()"
   ]
  },
  {
   "cell_type": "code",
   "execution_count": 92,
   "metadata": {},
   "outputs": [],
   "source": [
    "monthly_yearly_median = date_arr_delay.groupby(['year', 'month']).arr_delay.median().reset_index()"
   ]
  },
  {
   "cell_type": "code",
   "execution_count": 95,
   "metadata": {},
   "outputs": [],
   "source": [
    "year_2018 = monthly_yearly[monthly_yearly['year'] == 2018]\n",
    "year_2019 = monthly_yearly[monthly_yearly['year'] == 2019]\n",
    "year_2018_median = monthly_yearly_median[monthly_yearly_median['year'] == 2018]\n",
    "year_2019_median = monthly_yearly_median[monthly_yearly_median['year'] == 2019]"
   ]
  },
  {
   "cell_type": "code",
   "execution_count": 83,
   "metadata": {},
   "outputs": [
    {
     "data": {
      "text/html": [
       "<div>\n",
       "<style scoped>\n",
       "    .dataframe tbody tr th:only-of-type {\n",
       "        vertical-align: middle;\n",
       "    }\n",
       "\n",
       "    .dataframe tbody tr th {\n",
       "        vertical-align: top;\n",
       "    }\n",
       "\n",
       "    .dataframe thead th {\n",
       "        text-align: right;\n",
       "    }\n",
       "</style>\n",
       "<table border=\"1\" class=\"dataframe\">\n",
       "  <thead>\n",
       "    <tr style=\"text-align: right;\">\n",
       "      <th></th>\n",
       "      <th>year</th>\n",
       "      <th>month</th>\n",
       "      <th>arr_delay</th>\n",
       "    </tr>\n",
       "  </thead>\n",
       "  <tbody>\n",
       "    <tr>\n",
       "      <th>0</th>\n",
       "      <td>2018</td>\n",
       "      <td>1</td>\n",
       "      <td>3.162199</td>\n",
       "    </tr>\n",
       "    <tr>\n",
       "      <th>1</th>\n",
       "      <td>2018</td>\n",
       "      <td>2</td>\n",
       "      <td>3.918344</td>\n",
       "    </tr>\n",
       "    <tr>\n",
       "      <th>2</th>\n",
       "      <td>2018</td>\n",
       "      <td>3</td>\n",
       "      <td>1.864849</td>\n",
       "    </tr>\n",
       "    <tr>\n",
       "      <th>3</th>\n",
       "      <td>2018</td>\n",
       "      <td>4</td>\n",
       "      <td>3.466949</td>\n",
       "    </tr>\n",
       "    <tr>\n",
       "      <th>4</th>\n",
       "      <td>2018</td>\n",
       "      <td>5</td>\n",
       "      <td>5.786645</td>\n",
       "    </tr>\n",
       "    <tr>\n",
       "      <th>5</th>\n",
       "      <td>2018</td>\n",
       "      <td>6</td>\n",
       "      <td>8.488950</td>\n",
       "    </tr>\n",
       "    <tr>\n",
       "      <th>6</th>\n",
       "      <td>2018</td>\n",
       "      <td>7</td>\n",
       "      <td>8.655668</td>\n",
       "    </tr>\n",
       "    <tr>\n",
       "      <th>7</th>\n",
       "      <td>2018</td>\n",
       "      <td>8</td>\n",
       "      <td>9.696633</td>\n",
       "    </tr>\n",
       "    <tr>\n",
       "      <th>8</th>\n",
       "      <td>2018</td>\n",
       "      <td>9</td>\n",
       "      <td>2.828388</td>\n",
       "    </tr>\n",
       "    <tr>\n",
       "      <th>9</th>\n",
       "      <td>2018</td>\n",
       "      <td>10</td>\n",
       "      <td>2.974160</td>\n",
       "    </tr>\n",
       "    <tr>\n",
       "      <th>10</th>\n",
       "      <td>2018</td>\n",
       "      <td>11</td>\n",
       "      <td>5.439095</td>\n",
       "    </tr>\n",
       "    <tr>\n",
       "      <th>11</th>\n",
       "      <td>2018</td>\n",
       "      <td>12</td>\n",
       "      <td>3.574031</td>\n",
       "    </tr>\n",
       "  </tbody>\n",
       "</table>\n",
       "</div>"
      ],
      "text/plain": [
       "    year  month  arr_delay\n",
       "0   2018      1   3.162199\n",
       "1   2018      2   3.918344\n",
       "2   2018      3   1.864849\n",
       "3   2018      4   3.466949\n",
       "4   2018      5   5.786645\n",
       "5   2018      6   8.488950\n",
       "6   2018      7   8.655668\n",
       "7   2018      8   9.696633\n",
       "8   2018      9   2.828388\n",
       "9   2018     10   2.974160\n",
       "10  2018     11   5.439095\n",
       "11  2018     12   3.574031"
      ]
     },
     "execution_count": 83,
     "metadata": {},
     "output_type": "execute_result"
    }
   ],
   "source": [
    "year_2018"
   ]
  },
  {
   "cell_type": "code",
   "execution_count": 122,
   "metadata": {},
   "outputs": [
    {
     "data": {
      "image/png": "[encoded data removed]",
      "text/plain": [
       "<Figure size 720x720 with 4 Axes>"
      ]
     },
     "metadata": {
      "needs_background": "light"
     },
     "output_type": "display_data"
    }
   ],
   "source": [
    "fig, ((ax1, ax2), (ax3, ax4)) = plt.subplots(2, 2, figsize=(10, 10))\n",
    "\n",
    "ax1.plot(year_2018['month'], year_2018['arr_delay'])\n",
    "ax2.plot(year_2019['month'], year_2019['arr_delay'])\n",
    "ax3.plot(year_2018_median['month'], year_2018_median['arr_delay'])\n",
    "ax4.plot(year_2019_median['month'], year_2019_median['arr_delay'])\n",
    "ax1.set_xticks(year_2018['month'])\n",
    "ax2.set_xticks(year_2018['month'])\n",
    "ax3.set_xticks(year_2018['month'])\n",
    "ax4.set_xticks(year_2018['month'])\n",
    "ax1.set_ylabel('Avg Delay Minutes 2018')\n",
    "ax2.set_ylabel('Avg Delay Minutes 2019')\n",
    "ax3.set_ylabel('Med Delay Minutes 2018')\n",
    "ax4.set_ylabel('Med Delay Minutes 2019')\n",
    "ax1.set_xlabel('Month')\n",
    "ax2.set_xlabel('Month')\n",
    "ax3.set_xlabel('Month')\n",
    "ax4.set_xlabel('Month')\n",
    "plt.show()"
   ]
  },
  {
   "cell_type": "code",
   "execution_count": 125,
   "metadata": {},
   "outputs": [],
   "source": [
    "taxi = pd.read_sql_query('''SELECT taxi_in, taxi_out, wheels_on, wheels_off FROM flights;''', cnx)"
   ]
  },
  {
   "cell_type": "code",
   "execution_count": 128,
   "metadata": {},
   "outputs": [],
   "source": [
    "with open('C:/Users/sjmit/anaconda3/practice/lighthouse/w6/mid-term-project-I-master/taxi.pkl', 'wb') as f:\n",
    "    pickle.dump(taxi, f)"
   ]
  },
  {
   "cell_type": "code",
   "execution_count": 18,
   "metadata": {},
   "outputs": [],
   "source": [
    "with open('C:/Users/sjmit/anaconda3/practice/lighthouse/w6/mid-term-project-I-master/taxi.pkl', 'rb') as f:\n",
    "    taxi = pickle.load(f)"
   ]
  },
  {
   "cell_type": "code",
   "execution_count": 20,
   "metadata": {},
   "outputs": [],
   "source": [
    "taxi\n",
    "taxi_values = pd.Series.append(taxi['taxi_in'], taxi['taxi_out']).reset_index(drop=True)\n",
    "taxi_times = pd.Series.append(taxi['wheels_on'], taxi['wheels_off']).reset_index(drop=True)"
   ]
  },
  {
   "cell_type": "code",
   "execution_count": 21,
   "metadata": {},
   "outputs": [],
   "source": [
    "combined_taxi = pd.DataFrame({'taxi_duration': taxi_values, 'taxi_times':taxi_times})"
   ]
  },
  {
   "cell_type": "code",
   "execution_count": 22,
   "metadata": {},
   "outputs": [],
   "source": [
    "combined_taxi['hour'] = combined_taxi['taxi_times'].apply(lambda x: str(x)[:2] if len(str(x)) == 6 else str(x)[0])"
   ]
  },
  {
   "cell_type": "code",
   "execution_count": 23,
   "metadata": {},
   "outputs": [],
   "source": [
    "combined_taxi['taxi_duration'] = combined_taxi['taxi_duration'].fillna(combined_taxi['taxi_duration'].median())\n",
    "combined_taxi['taxi_times'] = combined_taxi['taxi_times'].fillna(combined_taxi['taxi_times'].median())"
   ]
  },
  {
   "cell_type": "code",
   "execution_count": 24,
   "metadata": {},
   "outputs": [],
   "source": [
    "taxi_hour = combined_taxi.groupby('hour').taxi_duration.mean().reset_index()"
   ]
  },
  {
   "cell_type": "code",
   "execution_count": 25,
   "metadata": {},
   "outputs": [],
   "source": [
    "taxi_count = combined_taxi.groupby('hour').taxi_duration.count().reset_index()"
   ]
  },
  {
   "cell_type": "code",
   "execution_count": 30,
   "metadata": {},
   "outputs": [],
   "source": [
    "taxi_hour = taxi_hour.loc[:24,:]"
   ]
  },
  {
   "cell_type": "code",
   "execution_count": 32,
   "metadata": {},
   "outputs": [],
   "source": [
    "taxi_count = taxi_count.loc[:24,:]"
   ]
  },
  {
   "cell_type": "code",
   "execution_count": 33,
   "metadata": {},
   "outputs": [],
   "source": [
    "taxi_hour['hour'] = taxi_hour['hour'].astype('int')"
   ]
  },
  {
   "cell_type": "code",
   "execution_count": 34,
   "metadata": {},
   "outputs": [],
   "source": [
    "taxi_count['hour'] = taxi_hour['hour'].astype('int')"
   ]
  },
  {
   "cell_type": "code",
   "execution_count": 35,
   "metadata": {},
   "outputs": [],
   "source": [
    "taxi_hour = taxi_hour.sort_values('hour')"
   ]
  },
  {
   "cell_type": "code",
   "execution_count": 36,
   "metadata": {},
   "outputs": [],
   "source": [
    "taxi_count = taxi_count.sort_values('hour')"
   ]
  },
  {
   "cell_type": "code",
   "execution_count": 118,
   "metadata": {},
   "outputs": [
    {
     "data": {
      "image/png": "[encoded data removed]",
      "text/plain": [
       "<Figure size 720x576 with 1 Axes>"
      ]
     },
     "metadata": {
      "needs_background": "light"
     },
     "output_type": "display_data"
    }
   ],
   "source": [
    "plt.figure(figsize=(10, 8))\n",
    "plt.plot(taxi_hour['hour'], taxi_hour['taxi_duration'])\n",
    "plt.xticks(taxi_hour['hour'])\n",
    "plt.xlabel('Hour')\n",
    "plt.ylabel('Avg Taxi Duration Minutes')\n",
    "plt.show()"
   ]
  },
  {
   "cell_type": "code",
   "execution_count": 211,
   "metadata": {},
   "outputs": [
    {
     "data": {
      "image/png": "[encoded data removed]",
      "text/plain": [
       "<Figure size 720x576 with 1 Axes>"
      ]
     },
     "metadata": {
      "needs_background": "light"
     },
     "output_type": "display_data"
    }
   ],
   "source": [
    "plt.figure(figsize=(10, 8))\n",
    "plt.plot(taxi_count['hour'], taxi_count['taxi_duration'])\n",
    "plt.xticks(taxi_hour['hour'])\n",
    "plt.xlabel('Hour')\n",
    "plt.ylabel('Taxi Count')\n",
    "plt.show()"
   ]
  },
  {
   "cell_type": "code",
   "execution_count": 49,
   "metadata": {},
   "outputs": [],
   "source": [
    "dep_delay = pd.read_sql_query('''SELECT dep_delay FROM flights;''', cnx)"
   ]
  },
  {
   "cell_type": "code",
   "execution_count": 49,
   "metadata": {},
   "outputs": [],
   "source": [
    "dep_delay['dep_delay'] = dep_delay['dep_delay'].fillna(dep_delay['dep_delay'].median())"
   ]
  },
  {
   "cell_type": "code",
   "execution_count": 51,
   "metadata": {},
   "outputs": [],
   "source": [
    "with open('C:/Users/sjmit/anaconda3/practice/lighthouse/w6/mid-term-project-I-master/dep_delay.pkl', 'wb') as f:\n",
    "    pickle.dump(dep_delay, f)"
   ]
  },
  {
   "cell_type": "code",
   "execution_count": 19,
   "metadata": {},
   "outputs": [],
   "source": [
    "with open('C:/Users/sjmit/anaconda3/practice/lighthouse/w6/mid-term-project-I-master/dep_delay.pkl', 'rb') as f:\n",
    "    dep_delay = pickle.load(f)"
   ]
  },
  {
   "cell_type": "code",
   "execution_count": 218,
   "metadata": {},
   "outputs": [
    {
     "data": {
      "image/png": "[encoded data removed]",
      "text/plain": [
       "<Figure size 720x576 with 1 Axes>"
      ]
     },
     "metadata": {
      "needs_background": "light"
     },
     "output_type": "display_data"
    }
   ],
   "source": [
    "plt.figure(figsize=(10, 8))\n",
    "plt.scatter(dep_delay, date_arr_delay['arr_delay'])\n",
    "# plt.xticks(taxi_hour['hour'])\n",
    "plt.xlabel('Departure Delay Minutes')\n",
    "plt.ylabel('Arrival Delay Minutes')\n",
    "plt.show()"
   ]
  },
  {
   "cell_type": "code",
   "execution_count": 53,
   "metadata": {},
   "outputs": [],
   "source": [
    "dep_vs_arr = date_arr_delay.join(dep_delay)"
   ]
  },
  {
   "cell_type": "code",
   "execution_count": 54,
   "metadata": {},
   "outputs": [],
   "source": [
    "dep_vs_arr['dependent'] = (dep_vs_arr['dep_delay'] > 0) & (dep_vs_arr['arr_delay'] > 0)"
   ]
  },
  {
   "cell_type": "code",
   "execution_count": 55,
   "metadata": {},
   "outputs": [],
   "source": [
    "with open('C:/Users/sjmit/anaconda3/practice/lighthouse/w6/mid-term-project-I-master/dep_vs_arr.pkl', 'wb') as f:\n",
    "    pickle.dump(dep_vs_arr, f)"
   ]
  },
  {
   "cell_type": "code",
   "execution_count": 20,
   "metadata": {},
   "outputs": [],
   "source": [
    "with open('C:/Users/sjmit/anaconda3/practice/lighthouse/w6/mid-term-project-I-master/dep_vs_arr.pkl', 'rb') as f:\n",
    "    dep_vs_arr = pickle.load(f)"
   ]
  },
  {
   "cell_type": "code",
   "execution_count": 231,
   "metadata": {},
   "outputs": [],
   "source": [
    "dep_vs_arr_counts = dep_vs_arr['dependent'].value_counts()"
   ]
  },
  {
   "cell_type": "code",
   "execution_count": 232,
   "metadata": {},
   "outputs": [
    {
     "data": {
      "text/plain": [
       "False    14090491\n",
       "True      1836994\n",
       "Name: dependent, dtype: int64"
      ]
     },
     "execution_count": 232,
     "metadata": {},
     "output_type": "execute_result"
    }
   ],
   "source": [
    "dep_vs_arr_counts"
   ]
  },
  {
   "cell_type": "code",
   "execution_count": 233,
   "metadata": {},
   "outputs": [],
   "source": [
    "dep_vs_arr_per = dep_vs_arr_counts[1] / dep_vs_arr_counts[0]"
   ]
  },
  {
   "cell_type": "code",
   "execution_count": 234,
   "metadata": {},
   "outputs": [
    {
     "data": {
      "text/plain": [
       "0.13037118436823814"
      ]
     },
     "execution_count": 234,
     "metadata": {},
     "output_type": "execute_result"
    }
   ],
   "source": [
    "dep_vs_arr_per"
   ]
  },
  {
   "cell_type": "code",
   "execution_count": 244,
   "metadata": {},
   "outputs": [],
   "source": [
    "#average time gain if a departure was delayed\n",
    "delayed_depart = dep_vs_arr[dep_vs_arr['dep_delay'] > 0]"
   ]
  },
  {
   "cell_type": "code",
   "execution_count": 245,
   "metadata": {},
   "outputs": [],
   "source": [
    "time_made = delayed_depart['dep_delay'] - delayed_depart['arr_delay']"
   ]
  },
  {
   "cell_type": "code",
   "execution_count": 247,
   "metadata": {},
   "outputs": [
    {
     "data": {
      "text/plain": [
       "35.411756701464704"
      ]
     },
     "execution_count": 247,
     "metadata": {},
     "output_type": "execute_result"
    }
   ],
   "source": [
    "time_made.mean()"
   ]
  },
  {
   "cell_type": "code",
   "execution_count": 10,
   "metadata": {},
   "outputs": [],
   "source": [
    "distance = pd.read_sql_query('''SELECT distance FROM flights;''', cnx)"
   ]
  },
  {
   "cell_type": "code",
   "execution_count": 11,
   "metadata": {},
   "outputs": [],
   "source": [
    "with open('C:/Users/sjmit/anaconda3/practice/lighthouse/w6/mid-term-project-I-master/distance.pkl', 'wb') as f:\n",
    "    pickle.dump(distance, f)"
   ]
  },
  {
   "cell_type": "code",
   "execution_count": 21,
   "metadata": {},
   "outputs": [],
   "source": [
    "with open('C:/Users/sjmit/anaconda3/practice/lighthouse/w6/mid-term-project-I-master/distance.pkl', 'rb') as f:\n",
    "    distance = pickle.load(f)"
   ]
  },
  {
   "cell_type": "code",
   "execution_count": 8,
   "metadata": {},
   "outputs": [],
   "source": [
    "one_third = ((distance.max() - distance.min()) / 3) + distance.min()"
   ]
  },
  {
   "cell_type": "code",
   "execution_count": 9,
   "metadata": {},
   "outputs": [],
   "source": [
    "two_thirds = ((distance.max() - distance.min()) / 3) * 2 + distance.min()"
   ]
  },
  {
   "cell_type": "code",
   "execution_count": 10,
   "metadata": {},
   "outputs": [
    {
     "data": {
      "text/plain": [
       "(distance    16.0\n",
       " dtype: float64,\n",
       " distance    1709.0\n",
       " dtype: float64,\n",
       " distance    3402.0\n",
       " dtype: float64,\n",
       " distance    5095.0\n",
       " dtype: float64)"
      ]
     },
     "execution_count": 10,
     "metadata": {},
     "output_type": "execute_result"
    }
   ],
   "source": [
    "distance.min(), one_third, two_thirds, distance.max()"
   ]
  },
  {
   "cell_type": "code",
   "execution_count": 11,
   "metadata": {},
   "outputs": [],
   "source": [
    "distance['haul'] = distance['distance'].apply(lambda x: 'short' if x <= one_third.values \n",
    "                                              else ('medium' if x <= two_thirds.values else 'long'))"
   ]
  },
  {
   "cell_type": "code",
   "execution_count": 16,
   "metadata": {},
   "outputs": [
    {
     "data": {
      "text/plain": [
       "Index(['fl_date', 'arr_delay', 'month', 'year', 'dep_delay', 'dependent'], dtype='object')"
      ]
     },
     "execution_count": 16,
     "metadata": {},
     "output_type": "execute_result"
    }
   ],
   "source": [
    "dep_vs_arr.columns"
   ]
  },
  {
   "cell_type": "code",
   "execution_count": 71,
   "metadata": {},
   "outputs": [],
   "source": [
    "df = dep_vs_arr.join(distance)"
   ]
  },
  {
   "cell_type": "code",
   "execution_count": 80,
   "metadata": {},
   "outputs": [],
   "source": [
    "df['hour'] = taxi['wheels_off'].apply(lambda x: str(x)[:2] if len(str(x)) == 6 else str(x)[0])"
   ]
  },
  {
   "cell_type": "code",
   "execution_count": 96,
   "metadata": {},
   "outputs": [],
   "source": [
    "# some values equal 'n' but I don't know if I should replace them with anything\n",
    "df['hour'] = df['hour'].replace('24', '0')"
   ]
  },
  {
   "cell_type": "code",
   "execution_count": 138,
   "metadata": {},
   "outputs": [],
   "source": [
    "with open('C:/Users/sjmit/anaconda3/practice/lighthouse/w6/mid-term-project-I-master/df.pkl', 'wb') as f:\n",
    "    pickle.dump(df, f)"
   ]
  },
  {
   "cell_type": "code",
   "execution_count": 23,
   "metadata": {},
   "outputs": [],
   "source": [
    "with open('C:/Users/sjmit/anaconda3/practice/lighthouse/w6/mid-term-project-I-master/df.pkl', 'rb') as f:\n",
    "    df = pickle.load(f)"
   ]
  },
  {
   "cell_type": "code",
   "execution_count": 24,
   "metadata": {},
   "outputs": [
    {
     "data": {
      "text/html": [
       "<div>\n",
       "<style scoped>\n",
       "    .dataframe tbody tr th:only-of-type {\n",
       "        vertical-align: middle;\n",
       "    }\n",
       "\n",
       "    .dataframe tbody tr th {\n",
       "        vertical-align: top;\n",
       "    }\n",
       "\n",
       "    .dataframe thead th {\n",
       "        text-align: right;\n",
       "    }\n",
       "</style>\n",
       "<table border=\"1\" class=\"dataframe\">\n",
       "  <thead>\n",
       "    <tr style=\"text-align: right;\">\n",
       "      <th></th>\n",
       "      <th>fl_date</th>\n",
       "      <th>arr_delay</th>\n",
       "      <th>month</th>\n",
       "      <th>year</th>\n",
       "      <th>dep_delay</th>\n",
       "      <th>dependent</th>\n",
       "      <th>distance</th>\n",
       "      <th>haul</th>\n",
       "      <th>hour</th>\n",
       "    </tr>\n",
       "  </thead>\n",
       "  <tbody>\n",
       "    <tr>\n",
       "      <th>0</th>\n",
       "      <td>2019-06-21</td>\n",
       "      <td>-15.0</td>\n",
       "      <td>6</td>\n",
       "      <td>2019</td>\n",
       "      <td>5.0</td>\n",
       "      <td>False</td>\n",
       "      <td>819.0</td>\n",
       "      <td>short</td>\n",
       "      <td>10</td>\n",
       "    </tr>\n",
       "    <tr>\n",
       "      <th>1</th>\n",
       "      <td>2019-06-21</td>\n",
       "      <td>147.0</td>\n",
       "      <td>6</td>\n",
       "      <td>2019</td>\n",
       "      <td>-9.0</td>\n",
       "      <td>False</td>\n",
       "      <td>862.0</td>\n",
       "      <td>short</td>\n",
       "      <td>14</td>\n",
       "    </tr>\n",
       "    <tr>\n",
       "      <th>2</th>\n",
       "      <td>2019-06-21</td>\n",
       "      <td>-12.0</td>\n",
       "      <td>6</td>\n",
       "      <td>2019</td>\n",
       "      <td>-12.0</td>\n",
       "      <td>False</td>\n",
       "      <td>1062.0</td>\n",
       "      <td>short</td>\n",
       "      <td>11</td>\n",
       "    </tr>\n",
       "    <tr>\n",
       "      <th>3</th>\n",
       "      <td>2019-06-21</td>\n",
       "      <td>26.0</td>\n",
       "      <td>6</td>\n",
       "      <td>2019</td>\n",
       "      <td>-5.0</td>\n",
       "      <td>False</td>\n",
       "      <td>1325.0</td>\n",
       "      <td>short</td>\n",
       "      <td>18</td>\n",
       "    </tr>\n",
       "    <tr>\n",
       "      <th>4</th>\n",
       "      <td>2019-06-21</td>\n",
       "      <td>136.0</td>\n",
       "      <td>6</td>\n",
       "      <td>2019</td>\n",
       "      <td>8.0</td>\n",
       "      <td>True</td>\n",
       "      <td>948.0</td>\n",
       "      <td>short</td>\n",
       "      <td>6</td>\n",
       "    </tr>\n",
       "    <tr>\n",
       "      <th>...</th>\n",
       "      <td>...</td>\n",
       "      <td>...</td>\n",
       "      <td>...</td>\n",
       "      <td>...</td>\n",
       "      <td>...</td>\n",
       "      <td>...</td>\n",
       "      <td>...</td>\n",
       "      <td>...</td>\n",
       "      <td>...</td>\n",
       "    </tr>\n",
       "    <tr>\n",
       "      <th>15927480</th>\n",
       "      <td>2019-06-21</td>\n",
       "      <td>-24.0</td>\n",
       "      <td>6</td>\n",
       "      <td>2019</td>\n",
       "      <td>-7.0</td>\n",
       "      <td>False</td>\n",
       "      <td>1041.0</td>\n",
       "      <td>short</td>\n",
       "      <td>17</td>\n",
       "    </tr>\n",
       "    <tr>\n",
       "      <th>15927481</th>\n",
       "      <td>2019-06-21</td>\n",
       "      <td>40.0</td>\n",
       "      <td>6</td>\n",
       "      <td>2019</td>\n",
       "      <td>-5.0</td>\n",
       "      <td>False</td>\n",
       "      <td>748.0</td>\n",
       "      <td>short</td>\n",
       "      <td>18</td>\n",
       "    </tr>\n",
       "    <tr>\n",
       "      <th>15927482</th>\n",
       "      <td>2019-06-21</td>\n",
       "      <td>60.0</td>\n",
       "      <td>6</td>\n",
       "      <td>2019</td>\n",
       "      <td>-5.0</td>\n",
       "      <td>False</td>\n",
       "      <td>937.0</td>\n",
       "      <td>short</td>\n",
       "      <td>11</td>\n",
       "    </tr>\n",
       "    <tr>\n",
       "      <th>15927483</th>\n",
       "      <td>2019-06-21</td>\n",
       "      <td>-32.0</td>\n",
       "      <td>6</td>\n",
       "      <td>2019</td>\n",
       "      <td>-1.0</td>\n",
       "      <td>False</td>\n",
       "      <td>967.0</td>\n",
       "      <td>short</td>\n",
       "      <td>7</td>\n",
       "    </tr>\n",
       "    <tr>\n",
       "      <th>15927484</th>\n",
       "      <td>2019-06-21</td>\n",
       "      <td>88.0</td>\n",
       "      <td>6</td>\n",
       "      <td>2019</td>\n",
       "      <td>-2.0</td>\n",
       "      <td>False</td>\n",
       "      <td>1558.0</td>\n",
       "      <td>short</td>\n",
       "      <td>19</td>\n",
       "    </tr>\n",
       "  </tbody>\n",
       "</table>\n",
       "<p>15927485 rows × 9 columns</p>\n",
       "</div>"
      ],
      "text/plain": [
       "            fl_date  arr_delay  month  year  dep_delay  dependent  distance  \\\n",
       "0        2019-06-21      -15.0      6  2019        5.0      False     819.0   \n",
       "1        2019-06-21      147.0      6  2019       -9.0      False     862.0   \n",
       "2        2019-06-21      -12.0      6  2019      -12.0      False    1062.0   \n",
       "3        2019-06-21       26.0      6  2019       -5.0      False    1325.0   \n",
       "4        2019-06-21      136.0      6  2019        8.0       True     948.0   \n",
       "...             ...        ...    ...   ...        ...        ...       ...   \n",
       "15927480 2019-06-21      -24.0      6  2019       -7.0      False    1041.0   \n",
       "15927481 2019-06-21       40.0      6  2019       -5.0      False     748.0   \n",
       "15927482 2019-06-21       60.0      6  2019       -5.0      False     937.0   \n",
       "15927483 2019-06-21      -32.0      6  2019       -1.0      False     967.0   \n",
       "15927484 2019-06-21       88.0      6  2019       -2.0      False    1558.0   \n",
       "\n",
       "           haul hour  \n",
       "0         short   10  \n",
       "1         short   14  \n",
       "2         short   11  \n",
       "3         short   18  \n",
       "4         short    6  \n",
       "...         ...  ...  \n",
       "15927480  short   17  \n",
       "15927481  short   18  \n",
       "15927482  short   11  \n",
       "15927483  short    7  \n",
       "15927484  short   19  \n",
       "\n",
       "[15927485 rows x 9 columns]"
      ]
     },
     "execution_count": 24,
     "metadata": {},
     "output_type": "execute_result"
    }
   ],
   "source": []
  },
  {
   "cell_type": "code",
   "execution_count": 134,
   "metadata": {},
   "outputs": [],
   "source": [
    "haul_hour = df.groupby(['haul', 'hour']).fl_date.count().reset_index()"
   ]
  },
  {
   "cell_type": "code",
   "execution_count": 135,
   "metadata": {},
   "outputs": [],
   "source": [
    "haul_hour['hour'] = haul_hour['hour'].apply(lambda x: int(x) if x != 'n' else 'n')"
   ]
  },
  {
   "cell_type": "code",
   "execution_count": 136,
   "metadata": {},
   "outputs": [],
   "source": [
    "haul_hour = haul_hour.sort_values(['haul', 'hour']).reset_index(drop=True)"
   ]
  },
  {
   "cell_type": "code",
   "execution_count": 137,
   "metadata": {},
   "outputs": [
    {
     "name": "stdout",
     "output_type": "stream",
     "text": [
      "      haul hour  fl_date\n",
      "0     long    1       66\n",
      "1     long    2       34\n",
      "2     long    3       23\n",
      "3     long    4       26\n",
      "4     long    5      376\n",
      "5     long    6     1258\n",
      "6     long    7     1201\n",
      "7     long    8     1146\n",
      "8     long    9     1133\n",
      "9     long   10     1136\n",
      "10    long   11     1154\n",
      "11    long   12     1172\n",
      "12    long   13     1098\n",
      "13    long   14     1098\n",
      "14    long   15     1093\n",
      "15    long   16     1068\n",
      "16    long   17     1072\n",
      "17    long   18     1164\n",
      "18    long   19     1020\n",
      "19    long   20     1023\n",
      "20    long   21      671\n",
      "21    long   22      668\n",
      "22    long   23      260\n",
      "23    long    n      328\n",
      "24  medium    0      176\n",
      "25  medium    1     4864\n",
      "26  medium    2     2217\n",
      "27  medium    3     1576\n",
      "28  medium    4     1518\n",
      "29  medium    5    25144\n",
      "30  medium    6    85043\n",
      "31  medium    7    82334\n",
      "32  medium    8    79740\n",
      "33  medium    9    75371\n",
      "34  medium   10    80018\n",
      "35  medium   11    79568\n",
      "36  medium   12    80668\n",
      "37  medium   13    73744\n",
      "38  medium   14    74915\n",
      "39  medium   15    76756\n",
      "40  medium   16    73269\n",
      "41  medium   17    77489\n",
      "42  medium   18    77379\n",
      "43  medium   19    69092\n",
      "44  medium   20    69222\n",
      "45  medium   21    48561\n",
      "46  medium   22    42324\n",
      "47  medium   23    18279\n",
      "48  medium    n    22471\n",
      "49   short    0     1741\n",
      "50   short    1    53617\n",
      "51   short    2    24123\n",
      "52   short    3    17539\n",
      "53   short    4    16849\n",
      "54   short    5   275039\n",
      "55   short    6   934351\n",
      "56   short    7   909274\n",
      "57   short    8   883269\n",
      "58   short    9   830347\n",
      "59   short   10   890237\n",
      "60   short   11   874687\n",
      "61   short   12   892666\n",
      "62   short   13   817788\n",
      "63   short   14   827082\n",
      "64   short   15   842164\n",
      "65   short   16   813396\n",
      "66   short   17   859394\n",
      "67   short   18   850751\n",
      "68   short   19   763202\n",
      "69   short   20   761889\n",
      "70   short   21   532894\n",
      "71   short   22   465755\n",
      "72   short   23   197940\n",
      "73   short    n   250465\n"
     ]
    }
   ],
   "source": [
    "pd.set_option('display.max_rows', 500)\n",
    "print(haul_hour.head(75))"
   ]
  },
  {
   "cell_type": "code",
   "execution_count": 29,
   "metadata": {},
   "outputs": [],
   "source": [
    "airport = pd.read_sql_query('''SELECT origin FROM flights;''', cnx)"
   ]
  },
  {
   "cell_type": "code",
   "execution_count": 36,
   "metadata": {},
   "outputs": [],
   "source": [
    "airport_dest = pd.read_sql_query('''SELECT dest FROM flights;''', cnx)"
   ]
  },
  {
   "cell_type": "code",
   "execution_count": 52,
   "metadata": {},
   "outputs": [],
   "source": [
    "busy = airport.join(date_arr_delay['fl_date'])"
   ]
  },
  {
   "cell_type": "code",
   "execution_count": 53,
   "metadata": {},
   "outputs": [],
   "source": [
    "busy = busy.rename(columns={'origin': 'airport'})"
   ]
  },
  {
   "cell_type": "code",
   "execution_count": 54,
   "metadata": {},
   "outputs": [],
   "source": [
    "busy['month'] = busy['fl_date'].dt.month"
   ]
  },
  {
   "cell_type": "code",
   "execution_count": 55,
   "metadata": {},
   "outputs": [],
   "source": [
    "busy2 = airport_dest.join(date_arr_delay['fl_date'])"
   ]
  },
  {
   "cell_type": "code",
   "execution_count": 56,
   "metadata": {},
   "outputs": [],
   "source": [
    "busy2 = busy2.rename(columns={'dest': 'airport'})"
   ]
  },
  {
   "cell_type": "code",
   "execution_count": 60,
   "metadata": {},
   "outputs": [],
   "source": [
    "busy2['month'] = busy2['fl_date'].dt.month"
   ]
  },
  {
   "cell_type": "code",
   "execution_count": 61,
   "metadata": {},
   "outputs": [],
   "source": [
    "busy_total = pd.DataFrame.append(busy, busy2).reset_index(drop=True)"
   ]
  },
  {
   "cell_type": "code",
   "execution_count": 103,
   "metadata": {},
   "outputs": [],
   "source": [
    "with open('C:/Users/sjmit/anaconda3/practice/lighthouse/w6/mid-term-project-I-master/busy_total.pkl', 'wb') as f:\n",
    "    pickle.dump(busy_total, f)"
   ]
  },
  {
   "cell_type": "code",
   "execution_count": null,
   "metadata": {},
   "outputs": [],
   "source": [
    "with open('C:/Users/sjmit/anaconda3/practice/lighthouse/w6/mid-term-project-I-master/busy_total.pkl', 'rb') as f:\n",
    "    busy_total = pickle.load(f)"
   ]
  },
  {
   "cell_type": "code",
   "execution_count": 77,
   "metadata": {},
   "outputs": [],
   "source": [
    "busy_grouped = busy_total.groupby(['airport', 'month']).fl_date.count().reset_index()"
   ]
  },
  {
   "cell_type": "code",
   "execution_count": 79,
   "metadata": {},
   "outputs": [],
   "source": [
    "busy_grouped = busy_grouped.rename(columns={'fl_date': 'num_flights'})"
   ]
  },
  {
   "cell_type": "code",
   "execution_count": 80,
   "metadata": {},
   "outputs": [
    {
     "data": {
      "text/html": [
       "<div>\n",
       "<style scoped>\n",
       "    .dataframe tbody tr th:only-of-type {\n",
       "        vertical-align: middle;\n",
       "    }\n",
       "\n",
       "    .dataframe tbody tr th {\n",
       "        vertical-align: top;\n",
       "    }\n",
       "\n",
       "    .dataframe thead th {\n",
       "        text-align: right;\n",
       "    }\n",
       "</style>\n",
       "<table border=\"1\" class=\"dataframe\">\n",
       "  <thead>\n",
       "    <tr style=\"text-align: right;\">\n",
       "      <th></th>\n",
       "      <th>airport</th>\n",
       "      <th>month</th>\n",
       "      <th>num_flights</th>\n",
       "    </tr>\n",
       "  </thead>\n",
       "  <tbody>\n",
       "    <tr>\n",
       "      <th>0</th>\n",
       "      <td>ABE</td>\n",
       "      <td>1</td>\n",
       "      <td>1866</td>\n",
       "    </tr>\n",
       "    <tr>\n",
       "      <th>1</th>\n",
       "      <td>ABE</td>\n",
       "      <td>2</td>\n",
       "      <td>1796</td>\n",
       "    </tr>\n",
       "    <tr>\n",
       "      <th>2</th>\n",
       "      <td>ABE</td>\n",
       "      <td>3</td>\n",
       "      <td>1853</td>\n",
       "    </tr>\n",
       "    <tr>\n",
       "      <th>3</th>\n",
       "      <td>ABE</td>\n",
       "      <td>4</td>\n",
       "      <td>1954</td>\n",
       "    </tr>\n",
       "    <tr>\n",
       "      <th>4</th>\n",
       "      <td>ABE</td>\n",
       "      <td>5</td>\n",
       "      <td>1854</td>\n",
       "    </tr>\n",
       "    <tr>\n",
       "      <th>...</th>\n",
       "      <td>...</td>\n",
       "      <td>...</td>\n",
       "      <td>...</td>\n",
       "    </tr>\n",
       "    <tr>\n",
       "      <th>4448</th>\n",
       "      <td>YUM</td>\n",
       "      <td>8</td>\n",
       "      <td>682</td>\n",
       "    </tr>\n",
       "    <tr>\n",
       "      <th>4449</th>\n",
       "      <td>YUM</td>\n",
       "      <td>9</td>\n",
       "      <td>638</td>\n",
       "    </tr>\n",
       "    <tr>\n",
       "      <th>4450</th>\n",
       "      <td>YUM</td>\n",
       "      <td>10</td>\n",
       "      <td>610</td>\n",
       "    </tr>\n",
       "    <tr>\n",
       "      <th>4451</th>\n",
       "      <td>YUM</td>\n",
       "      <td>11</td>\n",
       "      <td>544</td>\n",
       "    </tr>\n",
       "    <tr>\n",
       "      <th>4452</th>\n",
       "      <td>YUM</td>\n",
       "      <td>12</td>\n",
       "      <td>492</td>\n",
       "    </tr>\n",
       "  </tbody>\n",
       "</table>\n",
       "<p>4453 rows × 3 columns</p>\n",
       "</div>"
      ],
      "text/plain": [
       "     airport  month  num_flights\n",
       "0        ABE      1         1866\n",
       "1        ABE      2         1796\n",
       "2        ABE      3         1853\n",
       "3        ABE      4         1954\n",
       "4        ABE      5         1854\n",
       "...      ...    ...          ...\n",
       "4448     YUM      8          682\n",
       "4449     YUM      9          638\n",
       "4450     YUM     10          610\n",
       "4451     YUM     11          544\n",
       "4452     YUM     12          492\n",
       "\n",
       "[4453 rows x 3 columns]"
      ]
     },
     "execution_count": 80,
     "metadata": {},
     "output_type": "execute_result"
    }
   ],
   "source": [
    "busy_grouped"
   ]
  },
  {
   "cell_type": "code",
   "execution_count": 81,
   "metadata": {},
   "outputs": [],
   "source": [
    "busy_airports = busy_grouped.groupby('airport').num_flights.sum()"
   ]
  },
  {
   "cell_type": "code",
   "execution_count": 83,
   "metadata": {},
   "outputs": [],
   "source": [
    "busy_airports = busy_airports.sort_values(ascending=False)"
   ]
  },
  {
   "cell_type": "code",
   "execution_count": 85,
   "metadata": {},
   "outputs": [
    {
     "data": {
      "text/plain": [
       "airport\n",
       "ORD    1580382\n",
       "ATL    1571735\n",
       "DFW    1169290\n",
       "DEN    1104315\n",
       "CLT    1003049\n",
       "LAX    1001765\n",
       "SEA     758707\n",
       "SFO     715396\n",
       "PHX     710947\n",
       "IAH     708716\n",
       "Name: num_flights, dtype: int64"
      ]
     },
     "execution_count": 85,
     "metadata": {},
     "output_type": "execute_result"
    }
   ],
   "source": [
    "busy_airports.head(10)"
   ]
  },
  {
   "cell_type": "code",
   "execution_count": 89,
   "metadata": {},
   "outputs": [],
   "source": [
    "passengers = pd.read_sql_query('''SELECT passengers, origin FROM passengers;''', cnx)"
   ]
  },
  {
   "cell_type": "code",
   "execution_count": 104,
   "metadata": {},
   "outputs": [],
   "source": [
    "with open('C:/Users/sjmit/anaconda3/practice/lighthouse/w6/mid-term-project-I-master/passengers.pkl', 'wb') as f:\n",
    "    pickle.dump(passengers, f)"
   ]
  },
  {
   "cell_type": "code",
   "execution_count": null,
   "metadata": {},
   "outputs": [],
   "source": [
    "with open('C:/Users/sjmit/anaconda3/practice/lighthouse/w6/mid-term-project-I-master/passengers.pkl', 'rb') as f:\n",
    "    passengers = pickle.load(f)"
   ]
  },
  {
   "cell_type": "code",
   "execution_count": 91,
   "metadata": {},
   "outputs": [],
   "source": [
    "most_passengers = passengers.groupby('origin').passengers.sum()"
   ]
  },
  {
   "cell_type": "code",
   "execution_count": 94,
   "metadata": {},
   "outputs": [],
   "source": [
    "most_passengers = most_passengers.sort_values(ascending=False)"
   ]
  },
  {
   "cell_type": "code",
   "execution_count": 99,
   "metadata": {},
   "outputs": [
    {
     "data": {
      "text/plain": [
       "origin\n",
       "ATL    257478059.0\n",
       "LAX    205745255.0\n",
       "ORD    194019087.0\n",
       "DFW    163888490.0\n",
       "DEN    151024252.0\n",
       "JFK    148927079.0\n",
       "SFO    133266076.0\n",
       "LAS    117526251.0\n",
       "SEA    113960665.0\n",
       "CLT    112838675.0\n",
       "Name: passengers, dtype: float64"
      ]
     },
     "execution_count": 99,
     "metadata": {},
     "output_type": "execute_result"
    }
   ],
   "source": [
    "most_passengers.head(10)"
   ]
  }
 ],
 "metadata": {
  "kernelspec": {
   "display_name": "Python 3",
   "language": "python",
   "name": "python3"
  },
  "language_info": {
   "codemirror_mode": {
    "name": "ipython",
    "version": 3
   },
   "file_extension": ".py",
   "mimetype": "text/x-python",
   "name": "python",
   "nbconvert_exporter": "python",
   "pygments_lexer": "ipython3",
   "version": "3.8.3"
  }
 },
 "nbformat": 4,
 "nbformat_minor": 4
}
